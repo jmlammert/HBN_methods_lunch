{
 "cells": [
  {
   "cell_type": "code",
   "execution_count": null,
   "id": "31695934-13ee-4b4e-94d8-f0f16350a233",
   "metadata": {},
   "outputs": [],
   "source": []
  },
  {
   "cell_type": "code",
   "execution_count": 1,
   "id": "289a02c3-c8cd-4852-9638-e876c59e43f7",
   "metadata": {},
   "outputs": [],
   "source": [
    "import os\n",
    "import tarfile\n",
    "import shutil\n",
    "import pandas as pd"
   ]
  },
  {
   "cell_type": "code",
   "execution_count": 18,
   "id": "ad89585c-d957-4a08-bd63-d64c034f5eb0",
   "metadata": {},
   "outputs": [
    {
     "name": "stdout",
     "output_type": "stream",
     "text": [
      "/cifs/butler/HBN_data/v2_TP\n"
     ]
    }
   ],
   "source": [
    "path_data = \"/cifs/butler/HBN_data/v2_TP\"\n",
    "print(path_data)"
   ]
  },
  {
   "cell_type": "code",
   "execution_count": 3,
   "id": "e6e4de35-17c1-43b3-a799-73835f0af455",
   "metadata": {},
   "outputs": [
    {
     "name": "stdout",
     "output_type": "stream",
     "text": [
      "                id\n",
      "0               id\n",
      "1     NDARAA504CRN\n",
      "2     NDARAA947ZG5\n",
      "3     NDARAA948VFH\n",
      "4     NDARAB055BPR\n",
      "...            ...\n",
      "1566  NDARZY101JNB\n",
      "1567  NDARZY668NMV\n",
      "1568  NDARZZ740MLM\n",
      "1569  NDARZZ810LVF\n",
      "1570  NDARZZ993CEV\n",
      "\n",
      "[1571 rows x 1 columns]\n"
     ]
    }
   ],
   "source": [
    "path_ids = '/cifs/butler/HBN_data/preprocessing/old_scripts/file-check/MRI-behav_IDs.csv'\n",
    "p_ids = pd.read_csv(path_ids, names = [\"id\"])\n",
    "print(p_ids)"
   ]
  },
  {
   "cell_type": "code",
   "execution_count": 22,
   "id": "c3ee2895-3bb4-438a-aad1-2469b88460aa",
   "metadata": {},
   "outputs": [
    {
     "data": {
      "text/plain": [
       "2804"
      ]
     },
     "execution_count": 22,
     "metadata": {},
     "output_type": "execute_result"
    }
   ],
   "source": [
    "#create empty list to store filenames\n",
    "filenames = []\n",
    "\n",
    "#iterate through release folders (subdirs), individual files\n",
    "for path, subdirs, files in os.walk(path_data):\n",
    "    for file in files:\n",
    "        #check if \"part\" files are included -- must manually remove\n",
    "        if str(\"part\") in str(file): \n",
    "            print(file)\n",
    "        #trim \"sub-\", \".tar.gz\" from filenames and add to list\n",
    "        file = file.lstrip(\"sub-\").rstrip(\".tar.gz\")\n",
    "        filenames.append(file)\n",
    "\n",
    "len(filenames)"
   ]
  },
  {
   "cell_type": "code",
   "execution_count": 23,
   "id": "62c0d0f3-5529-4455-8cdc-fed2a01c686c",
   "metadata": {},
   "outputs": [],
   "source": [
    "#create empty lists of missing and non-missing IDs\n",
    "missing = []\n",
    "not_missing = []\n",
    "\n",
    "#iterate through IDs in ID/release number dataframe\n",
    "for ID in p_ids[\"id\"]:\n",
    "    if ID not in filenames: #if ID not present in filenames, add to missing list\n",
    "        missing.append(ID)\n",
    "    else:\n",
    "        not_missing.append(ID) #if ID is present in filenames, add to non-missing list"
   ]
  },
  {
   "cell_type": "code",
   "execution_count": 28,
   "id": "102c15d5-f6e9-4f40-9cf9-79546b3b302f",
   "metadata": {},
   "outputs": [
    {
     "data": {
      "text/plain": [
       "1601"
      ]
     },
     "execution_count": 28,
     "metadata": {},
     "output_type": "execute_result"
    }
   ],
   "source": [
    "len(not_missing)"
   ]
  },
  {
   "cell_type": "code",
   "execution_count": 57,
   "id": "4dbd4850-0309-4179-ac31-298de3bcde30",
   "metadata": {
    "scrolled": true,
    "tags": []
   },
   "outputs": [
    {
     "name": "stdout",
     "output_type": "stream",
     "text": [
      "/cifs/butler/HBN_data/v2_TP/sub-NDARZA511FYF.tar.gz\n",
      "Done copying 1541 / 1601 files that include tasks\n",
      "/cifs/butler/HBN_data/v2_TP/sub-NDARZA694WHF.tar.gz\n",
      "Done copying 1542 / 1601 files that include tasks\n",
      "/cifs/butler/HBN_data/v2_TP/sub-NDARZB128KCF.tar.gz\n",
      "Done copying 1543 / 1601 files that include tasks\n",
      "/cifs/butler/HBN_data/v2_TP/sub-NDARZB517KTU.tar.gz\n",
      "Done copying 1544 / 1601 files that include tasks\n",
      "/cifs/butler/HBN_data/v2_TP/sub-NDARZC021TF4.tar.gz\n",
      "Done copying 1545 / 1601 files that include tasks\n",
      "/cifs/butler/HBN_data/v2_TP/sub-NDARZC344VH2.tar.gz\n",
      "Done copying 1546 / 1601 files that include tasks\n",
      "/cifs/butler/HBN_data/v2_TP/sub-NDARZC495EAG.tar.gz\n",
      "Done copying 1547 / 1601 files that include tasks\n",
      "/cifs/butler/HBN_data/v2_TP/sub-NDARZC499NVX.tar.gz\n",
      "Done copying 1548 / 1601 files that include tasks\n",
      "/cifs/butler/HBN_data/v2_TP/sub-NDARZD985LU8.tar.gz\n",
      "Done copying 1549 / 1601 files that include tasks\n",
      "/cifs/butler/HBN_data/v2_TP/sub-NDARZE389XF0.tar.gz\n",
      "Done copying 1550 / 1601 files that include tasks\n",
      "/cifs/butler/HBN_data/v2_TP/sub-NDARZE685UJ5.tar.gz\n",
      "Done copying 1551 / 1601 files that include tasks\n",
      "/cifs/butler/HBN_data/v2_TP/sub-NDARZE963MEU.tar.gz\n",
      "Done copying 1552 / 1601 files that include tasks\n",
      "/cifs/butler/HBN_data/v2_TP/sub-NDARZF170TZ0.tar.gz\n",
      "Done copying 1553 / 1601 files that include tasks\n",
      "/cifs/butler/HBN_data/v2_TP/sub-NDARZF625MH8.tar.gz\n",
      "Done copying 1554 / 1601 files that include tasks\n",
      "/cifs/butler/HBN_data/v2_TP/sub-NDARZG081LYG.tar.gz\n",
      "Done copying 1555 / 1601 files that include tasks\n",
      "/cifs/butler/HBN_data/v2_TP/sub-NDARZG690NHH.tar.gz\n",
      "Done copying 1556 / 1601 files that include tasks\n",
      "/cifs/butler/HBN_data/v2_TP/sub-NDARZH366BF8.tar.gz\n",
      "Done copying 1557 / 1601 files that include tasks\n",
      "/cifs/butler/HBN_data/v2_TP/sub-NDARZH521MMD.tar.gz\n",
      "Done copying 1558 / 1601 files that include tasks\n",
      "/cifs/butler/HBN_data/v2_TP/sub-NDARZH699ZET.tar.gz\n",
      "Done copying 1559 / 1601 files that include tasks\n",
      "/cifs/butler/HBN_data/v2_TP/sub-NDARZJ016GL0.tar.gz\n",
      "Done copying 1560 / 1601 files that include tasks\n",
      "/cifs/butler/HBN_data/v2_TP/sub-NDARZJ603JM0.tar.gz\n",
      "Done copying 1561 / 1601 files that include tasks\n",
      "/cifs/butler/HBN_data/v2_TP/sub-NDARZK732FZ0.tar.gz\n",
      "Done copying 1562 / 1601 files that include tasks\n",
      "/cifs/butler/HBN_data/v2_TP/sub-NDARZK745JGG.tar.gz\n",
      "Done copying 1563 / 1601 files that include tasks\n",
      "/cifs/butler/HBN_data/v2_TP/sub-NDARZL113CU0.tar.gz\n",
      "Done copying 1564 / 1601 files that include tasks\n",
      "/cifs/butler/HBN_data/v2_TP/sub-NDARZL162HZH.tar.gz\n",
      "Done copying 1565 / 1601 files that include tasks\n",
      "/cifs/butler/HBN_data/v2_TP/sub-NDARZL222KVA.tar.gz\n",
      "Done copying 1566 / 1601 files that include tasks\n",
      "/cifs/butler/HBN_data/v2_TP/sub-NDARZL799MFW.tar.gz\n",
      "Done copying 1567 / 1601 files that include tasks\n",
      "/cifs/butler/HBN_data/v2_TP/sub-NDARZL855WVA.tar.gz\n",
      "Done copying 1568 / 1601 files that include tasks\n",
      "/cifs/butler/HBN_data/v2_TP/sub-NDARZM580BG2.tar.gz\n",
      "Done copying 1569 / 1601 files that include tasks\n",
      "/cifs/butler/HBN_data/v2_TP/sub-NDARZM865KE8.tar.gz\n",
      "Done copying 1570 / 1601 files that include tasks\n",
      "/cifs/butler/HBN_data/v2_TP/sub-NDARZM903TNL.tar.gz\n",
      "Done copying 1571 / 1601 files that include tasks\n",
      "/cifs/butler/HBN_data/v2_TP/sub-NDARZN578YDP.tar.gz\n",
      "Done copying 1572 / 1601 files that include tasks\n",
      "/cifs/butler/HBN_data/v2_TP/sub-NDARZN677EYE.tar.gz\n",
      "Done copying 1573 / 1601 files that include tasks\n",
      "/cifs/butler/HBN_data/v2_TP/sub-NDARZN914GPB.tar.gz\n",
      "Done copying 1574 / 1601 files that include tasks\n",
      "/cifs/butler/HBN_data/v2_TP/sub-NDARZP599GRG.tar.gz\n",
      "Done copying 1575 / 1601 files that include tasks\n",
      "/cifs/butler/HBN_data/v2_TP/sub-NDARZR180BM6.tar.gz\n",
      "Done copying 1576 / 1601 files that include tasks\n",
      "/cifs/butler/HBN_data/v2_TP/sub-NDARZR529EJ1.tar.gz\n",
      "Done copying 1577 / 1601 files that include tasks\n",
      "/cifs/butler/HBN_data/v2_TP/sub-NDARZT096AUP.tar.gz\n",
      "Done copying 1578 / 1601 files that include tasks\n",
      "/cifs/butler/HBN_data/v2_TP/sub-NDARZT581RNV.tar.gz\n",
      "Done copying 1579 / 1601 files that include tasks\n",
      "/cifs/butler/HBN_data/v2_TP/sub-NDARZT876LP6.tar.gz\n",
      "Done copying 1580 / 1601 files that include tasks\n",
      "/cifs/butler/HBN_data/v2_TP/sub-NDARZT957CWG.tar.gz\n",
      "Done copying 1581 / 1601 files that include tasks\n",
      "/cifs/butler/HBN_data/v2_TP/sub-NDARZU279XR3.tar.gz\n",
      "Done copying 1582 / 1601 files that include tasks\n",
      "/cifs/butler/HBN_data/v2_TP/sub-NDARZU822WN3.tar.gz\n",
      "Done copying 1583 / 1601 files that include tasks\n",
      "/cifs/butler/HBN_data/v2_TP/sub-NDARZV132DRG.tar.gz\n",
      "Done copying 1584 / 1601 files that include tasks\n",
      "/cifs/butler/HBN_data/v2_TP/sub-NDARZV421TCZ.tar.gz\n",
      "Done copying 1585 / 1601 files that include tasks\n",
      "/cifs/butler/HBN_data/v2_TP/sub-NDARZV749GAP.tar.gz\n",
      "Done copying 1586 / 1601 files that include tasks\n",
      "/cifs/butler/HBN_data/v2_TP/sub-NDARZV895RZ5.tar.gz\n",
      "Done copying 1587 / 1601 files that include tasks\n",
      "/cifs/butler/HBN_data/v2_TP/sub-NDARZV983XK9.tar.gz\n",
      "Done copying 1588 / 1601 files that include tasks\n",
      "/cifs/butler/HBN_data/v2_TP/sub-NDARZW363UGM.tar.gz\n",
      "Done copying 1589 / 1601 files that include tasks\n",
      "/cifs/butler/HBN_data/v2_TP/sub-NDARZW472CCF.tar.gz\n",
      "Done copying 1590 / 1601 files that include tasks\n",
      "/cifs/butler/HBN_data/v2_TP/sub-NDARZW619BDL.tar.gz\n",
      "Done copying 1591 / 1601 files that include tasks\n",
      "/cifs/butler/HBN_data/v2_TP/sub-NDARZW637PCF.tar.gz\n",
      "Done copying 1592 / 1601 files that include tasks\n",
      "/cifs/butler/HBN_data/v2_TP/sub-NDARZW662UK6.tar.gz\n",
      "Done copying 1593 / 1601 files that include tasks\n",
      "/cifs/butler/HBN_data/v2_TP/sub-NDARZW873DN3.tar.gz\n",
      "Done copying 1594 / 1601 files that include tasks\n",
      "/cifs/butler/HBN_data/v2_TP/sub-NDARZW930MF2.tar.gz\n",
      "Done copying 1595 / 1601 files that include tasks\n",
      "/cifs/butler/HBN_data/v2_TP/sub-NDARZX827NWT.tar.gz\n",
      "Done copying 1596 / 1601 files that include tasks\n",
      "/cifs/butler/HBN_data/v2_TP/sub-NDARZY101JNB.tar.gz\n",
      "Done copying 1597 / 1601 files that include tasks\n",
      "/cifs/butler/HBN_data/v2_TP/sub-NDARZY668NMV.tar.gz\n",
      "Done copying 1598 / 1601 files that include tasks\n",
      "/cifs/butler/HBN_data/v2_TP/sub-NDARZZ740MLM.tar.gz\n",
      "Done copying 1599 / 1601 files that include tasks\n",
      "/cifs/butler/HBN_data/v2_TP/sub-NDARZZ810LVF.tar.gz\n",
      "Done copying 1600 / 1601 files that include tasks\n",
      "/cifs/butler/HBN_data/v2_TP/sub-NDARZZ993CEV.tar.gz\n",
      "Done copying 1601 / 1601 files that include tasks\n"
     ]
    }
   ],
   "source": [
    "#TAKES SEVERAL HOURS FOR ENTIRE DATASET TO COPY\n",
    "\n",
    "#make copy of files with desired task in filtered folder\n",
    "\n",
    "target_dir = \"/cifs/butler/HBN_data/v3_TP-tasks\"\n",
    "#print(target_dir)\n",
    "\n",
    "#set new counter\n",
    "counter = 1540\n",
    "num_files = int(len(not_missing))\n",
    "\n",
    "for source_dir in not_missing[1540:]: #for each file (original directory) in task-included list...\n",
    "    source_dir = \"/cifs/butler/HBN_data/v2_TP/\" + \"sub-\" + source_dir + \".tar.gz\" #add path, sub and .tar.gz back to filename\n",
    "    shutil.copy2(source_dir, target_dir)\n",
    "    counter = counter + 1\n",
    "    print(source_dir)\n",
    "    print(\"Done copying \" + str(counter) + \" / \" + str(num_files) + \" files that include tasks\")"
   ]
  },
  {
   "cell_type": "code",
   "execution_count": 5,
   "id": "4395081e-0093-4fdf-b732-2b9b819383b0",
   "metadata": {},
   "outputs": [
    {
     "data": {
      "text/plain": [
       "1601"
      ]
     },
     "execution_count": 5,
     "metadata": {},
     "output_type": "execute_result"
    }
   ],
   "source": [
    "#get all filenames/IDs in v3 folder to cross-reference with R dataframe\n",
    "\n",
    "target_dir = \"/cifs/butler/HBN_data/v3_TP-tasks\"\n",
    "\n",
    "#create empty list to store filenames\n",
    "final_filenames = []\n",
    "\n",
    "#iterate through release folders (subdirs), individual files\n",
    "for path, subdirs, files in os.walk(target_dir):\n",
    "    for file in files:\n",
    "        #check if \"part\" files are included -- must manually remove\n",
    "        if str(\"part\") in str(file): \n",
    "            print(file)\n",
    "        #trim \"sub-\", \".tar.gz\" from filenames and add to list\n",
    "        file = file.lstrip(\"sub-\").rstrip(\".tar.gz\")\n",
    "        final_filenames.append(file)\n",
    "\n",
    "len(final_filenames)"
   ]
  },
  {
   "cell_type": "code",
   "execution_count": 11,
   "id": "5b5e3d5b-ff24-454c-a456-3e740aba291c",
   "metadata": {},
   "outputs": [
    {
     "data": {
      "text/plain": [
       "31"
      ]
     },
     "execution_count": 11,
     "metadata": {},
     "output_type": "execute_result"
    }
   ],
   "source": [
    "t = list(set(final_filenames) - set(p_ids[\"id\"]))\n",
    "len(t)"
   ]
  },
  {
   "cell_type": "code",
   "execution_count": 21,
   "id": "622588fc-dedb-4276-a4e5-b5246068b009",
   "metadata": {},
   "outputs": [
    {
     "data": {
      "text/plain": [
       "['/cifs/butler/HBN_data/v3_TP-tasks/sub-NDAREC648WEL.tar.gz',\n",
       " '/cifs/butler/HBN_data/v3_TP-tasks/sub-NDARNL547DDH.tar.gz',\n",
       " '/cifs/butler/HBN_data/v3_TP-tasks/sub-NDARFR873KZX.tar.gz',\n",
       " '/cifs/butler/HBN_data/v3_TP-tasks/sub-NDARLD978JVJ.tar.gz',\n",
       " '/cifs/butler/HBN_data/v3_TP-tasks/sub-NDARZW637PCF.tar.gz',\n",
       " '/cifs/butler/HBN_data/v3_TP-tasks/sub-NDARRA428WB9.tar.gz',\n",
       " '/cifs/butler/HBN_data/v3_TP-tasks/sub-NDARGG547JN2.tar.gz',\n",
       " '/cifs/butler/HBN_data/v3_TP-tasks/sub-NDARAP782TVC.tar.gz',\n",
       " '/cifs/butler/HBN_data/v3_TP-tasks/sub-NDARDR236FWH.tar.gz',\n",
       " '/cifs/butler/HBN_data/v3_TP-tasks/sub-NDARWW005GCU.tar.gz',\n",
       " '/cifs/butler/HBN_data/v3_TP-tasks/sub-NDARPF459CME.tar.gz',\n",
       " '/cifs/butler/HBN_data/v3_TP-tasks/sub-NDARYF272EDC.tar.gz',\n",
       " '/cifs/butler/HBN_data/v3_TP-tasks/sub-NDARMM951YEH.tar.gz',\n",
       " '/cifs/butler/HBN_data/v3_TP-tasks/sub-NDARNC561KDP.tar.gz',\n",
       " '/cifs/butler/HBN_data/v3_TP-tasks/sub-NDARJZ679KXJ.tar.gz',\n",
       " '/cifs/butler/HBN_data/v3_TP-tasks/sub-NDARUX885LMW.tar.gz',\n",
       " '/cifs/butler/HBN_data/v3_TP-tasks/sub-NDARVW217KW6.tar.gz',\n",
       " '/cifs/butler/HBN_data/v3_TP-tasks/sub-NDARPW915RGD.tar.gz',\n",
       " '/cifs/butler/HBN_data/v3_TP-tasks/sub-NDARYG391PMU.tar.gz',\n",
       " '/cifs/butler/HBN_data/v3_TP-tasks/sub-NDARBW403EVZ.tar.gz',\n",
       " '/cifs/butler/HBN_data/v3_TP-tasks/sub-NDARTF776EYR.tar.gz',\n",
       " '/cifs/butler/HBN_data/v3_TP-tasks/sub-NDARLT946JYZ.tar.gz',\n",
       " '/cifs/butler/HBN_data/v3_TP-tasks/sub-NDARFV289RKB.tar.gz',\n",
       " '/cifs/butler/HBN_data/v3_TP-tasks/sub-NDARJG821GH3.tar.gz',\n",
       " '/cifs/butler/HBN_data/v3_TP-tasks/sub-NDARMT661WCR.tar.gz',\n",
       " '/cifs/butler/HBN_data/v3_TP-tasks/sub-NDARXH393TMM.tar.gz',\n",
       " '/cifs/butler/HBN_data/v3_TP-tasks/sub-NDARRC348AFG.tar.gz',\n",
       " '/cifs/butler/HBN_data/v3_TP-tasks/sub-NDARWV449GEM.tar.gz',\n",
       " '/cifs/butler/HBN_data/v3_TP-tasks/sub-NDARCD357CZR.tar.gz',\n",
       " '/cifs/butler/HBN_data/v3_TP-tasks/sub-NDARXK986EK6.tar.gz',\n",
       " '/cifs/butler/HBN_data/v3_TP-tasks/sub-NDARUZ206DRV.tar.gz']"
      ]
     },
     "execution_count": 21,
     "metadata": {},
     "output_type": "execute_result"
    }
   ],
   "source": [
    "delete_files = []\n",
    "for i in t:\n",
    "    i = \"/cifs/butler/HBN_data/v3_TP-tasks/sub-\" + i + \".tar.gz\"\n",
    "    delete_files.append(i)\n",
    "delete_files"
   ]
  },
  {
   "cell_type": "code",
   "execution_count": 22,
   "id": "f3eb4845-9532-4390-a013-2e5ed9697c38",
   "metadata": {},
   "outputs": [
    {
     "name": "stdout",
     "output_type": "stream",
     "text": [
      "done\n",
      "done\n",
      "done\n",
      "done\n",
      "done\n",
      "done\n",
      "done\n",
      "done\n",
      "done\n",
      "done\n",
      "done\n",
      "done\n",
      "done\n",
      "done\n",
      "done\n",
      "done\n",
      "done\n",
      "done\n",
      "done\n",
      "done\n",
      "done\n",
      "done\n",
      "done\n",
      "done\n",
      "done\n",
      "done\n",
      "done\n",
      "done\n",
      "done\n",
      "done\n",
      "done\n"
     ]
    }
   ],
   "source": [
    "os.chdir(target_dir)\n",
    "for d in delete_files:\n",
    "    os.remove(d)\n",
    "    print(\"done\")"
   ]
  },
  {
   "cell_type": "code",
   "execution_count": null,
   "id": "b075ca51-e154-499c-a308-0f27611d9882",
   "metadata": {},
   "outputs": [],
   "source": []
  }
 ],
 "metadata": {
  "kernelspec": {
   "display_name": "Python 3 (ipykernel)",
   "language": "python",
   "name": "python3"
  },
  "language_info": {
   "codemirror_mode": {
    "name": "ipython",
    "version": 3
   },
   "file_extension": ".py",
   "mimetype": "text/x-python",
   "name": "python",
   "nbconvert_exporter": "python",
   "pygments_lexer": "ipython3",
   "version": "3.11.4"
  }
 },
 "nbformat": 4,
 "nbformat_minor": 5
}
